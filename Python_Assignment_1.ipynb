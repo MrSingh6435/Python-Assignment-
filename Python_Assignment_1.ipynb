{
  "nbformat": 4,
  "nbformat_minor": 0,
  "metadata": {
    "colab": {
      "provenance": [],
      "authorship_tag": "ABX9TyP5P0i4Vn/F4g1BwbOnSdlv",
      "include_colab_link": true
    },
    "kernelspec": {
      "name": "python3",
      "display_name": "Python 3"
    },
    "language_info": {
      "name": "python"
    }
  },
  "cells": [
    {
      "cell_type": "markdown",
      "metadata": {
        "id": "view-in-github",
        "colab_type": "text"
      },
      "source": [
        "<a href=\"https://colab.research.google.com/github/MrSingh6435/Python-Assignment-/blob/main/Python_Assignment_1.ipynb\" target=\"_parent\"><img src=\"https://colab.research.google.com/assets/colab-badge.svg\" alt=\"Open In Colab\"/></a>"
      ]
    },
    {
      "cell_type": "markdown",
      "source": [
        "### **Q1. L is a list defined as L= [11, 12, 13, 14].**\n",
        "(i) WAP to add 50 and 60 to L."
      ],
      "metadata": {
        "id": "pQ_SNLKFMEdb"
      }
    },
    {
      "cell_type": "code",
      "execution_count": 55,
      "metadata": {
        "colab": {
          "base_uri": "https://localhost:8080/"
        },
        "id": "C_OyJZiwL-Ke",
        "outputId": "9210fb35-0d9e-48c5-c425-3649dd738dda"
      },
      "outputs": [
        {
          "output_type": "stream",
          "name": "stdout",
          "text": [
            "[11, 12, 13, 14]\n",
            "[11, 12, 13, 14, 50, 60]\n"
          ]
        }
      ],
      "source": [
        "L = [11, 12, 13, 14]\n",
        "print(L)\n",
        "L.append(50)\n",
        "L.append(60)\n",
        "print(L)"
      ]
    },
    {
      "cell_type": "markdown",
      "source": [
        "(ii) WAP to remove 11 and 13from L."
      ],
      "metadata": {
        "id": "dhiZBwaCMnNN"
      }
    },
    {
      "cell_type": "code",
      "source": [
        "L.remove(11)\n",
        "L.remove(13)\n",
        "print(L)"
      ],
      "metadata": {
        "colab": {
          "base_uri": "https://localhost:8080/"
        },
        "id": "ify5srjKMsRc",
        "outputId": "2e83c697-1c96-4fcf-98a7-877cc551fd1b"
      },
      "execution_count": 56,
      "outputs": [
        {
          "output_type": "stream",
          "name": "stdout",
          "text": [
            "[12, 14, 50, 60]\n"
          ]
        }
      ]
    },
    {
      "cell_type": "markdown",
      "source": [
        "(iii) WAP to sort L in ascending order."
      ],
      "metadata": {
        "id": "mnuT3CVqM-Ba"
      }
    },
    {
      "cell_type": "code",
      "source": [
        "L.sort()\n",
        "print(L)"
      ],
      "metadata": {
        "colab": {
          "base_uri": "https://localhost:8080/"
        },
        "id": "b4-QixDaNFWP",
        "outputId": "882391cc-3976-430c-aa28-7bc71c9a6429"
      },
      "execution_count": 57,
      "outputs": [
        {
          "output_type": "stream",
          "name": "stdout",
          "text": [
            "[12, 14, 50, 60]\n"
          ]
        }
      ]
    },
    {
      "cell_type": "markdown",
      "source": [
        "(iv) WAP to sort L in descending order."
      ],
      "metadata": {
        "id": "f0Rtxiv1NPjf"
      }
    },
    {
      "cell_type": "code",
      "source": [
        "L.sort(reverse=True)\n",
        "print(L)"
      ],
      "metadata": {
        "colab": {
          "base_uri": "https://localhost:8080/"
        },
        "id": "p9b_zW7QNSlO",
        "outputId": "ee36065f-cf64-4ae1-c358-df3fec19df36"
      },
      "execution_count": 58,
      "outputs": [
        {
          "output_type": "stream",
          "name": "stdout",
          "text": [
            "[60, 50, 14, 12]\n"
          ]
        }
      ]
    },
    {
      "cell_type": "markdown",
      "source": [
        "(v) WAP to search for 13 in L."
      ],
      "metadata": {
        "id": "8IIxTHurNizW"
      }
    },
    {
      "cell_type": "code",
      "source": [
        "if 13 in L:\n",
        "  print(\"!3 is in List\")\n",
        "else:\n",
        "  print(\"13 Not found\")"
      ],
      "metadata": {
        "colab": {
          "base_uri": "https://localhost:8080/"
        },
        "id": "F9WitDTpNmR3",
        "outputId": "a3dd4379-08a9-4c88-fe9b-5aa6200c8aaf"
      },
      "execution_count": 59,
      "outputs": [
        {
          "output_type": "stream",
          "name": "stdout",
          "text": [
            "13 Not found\n"
          ]
        }
      ]
    },
    {
      "cell_type": "markdown",
      "source": [
        "(vi) WAP to count the number of elements present in L."
      ],
      "metadata": {
        "id": "bIiAFFWBNpD4"
      }
    },
    {
      "cell_type": "code",
      "source": [
        "print(len(L))"
      ],
      "metadata": {
        "colab": {
          "base_uri": "https://localhost:8080/"
        },
        "id": "VWEFE1JVNpY9",
        "outputId": "8416aafe-d86c-4d00-ca5a-b58633899af4"
      },
      "execution_count": 60,
      "outputs": [
        {
          "output_type": "stream",
          "name": "stdout",
          "text": [
            "4\n"
          ]
        }
      ]
    },
    {
      "cell_type": "markdown",
      "source": [
        "(vii) WAP to sum all the elements in L.\n"
      ],
      "metadata": {
        "id": "N7eojQaWNpra"
      }
    },
    {
      "cell_type": "code",
      "source": [
        "total = 0\n",
        "for i in L:\n",
        "  total += i\n",
        "print(\"Sum of all elements of list: \"total)\n"
      ],
      "metadata": {
        "colab": {
          "base_uri": "https://localhost:8080/",
          "height": 106
        },
        "id": "NMvEz8rSNp8K",
        "outputId": "4c282c03-9485-42b0-b8ef-5bbc3f1e00f6"
      },
      "execution_count": 62,
      "outputs": [
        {
          "output_type": "error",
          "ename": "SyntaxError",
          "evalue": "invalid syntax. Perhaps you forgot a comma? (<ipython-input-62-1dfc8022ce56>, line 4)",
          "traceback": [
            "\u001b[0;36m  File \u001b[0;32m\"<ipython-input-62-1dfc8022ce56>\"\u001b[0;36m, line \u001b[0;32m4\u001b[0m\n\u001b[0;31m    print(\"Sum of all elements of list: \"total)\u001b[0m\n\u001b[0m          ^\u001b[0m\n\u001b[0;31mSyntaxError\u001b[0m\u001b[0;31m:\u001b[0m invalid syntax. Perhaps you forgot a comma?\n"
          ]
        }
      ]
    },
    {
      "cell_type": "markdown",
      "source": [
        "(viii) WAP to sum all ODD numbers in L."
      ],
      "metadata": {
        "id": "Wnp2VWBBNqOb"
      }
    },
    {
      "cell_type": "code",
      "source": [
        "totalOOD = 0\n",
        "for i in L:\n",
        "  if(i % 2 != 0):\n",
        "    totalOOD += i\n",
        "print(\"Total of Odd numbers in list: \", totalOOD)"
      ],
      "metadata": {
        "colab": {
          "base_uri": "https://localhost:8080/"
        },
        "id": "m7TeAkQpNqdZ",
        "outputId": "0de70f2b-d3c4-4d71-fb18-3d78899f39dd"
      },
      "execution_count": 63,
      "outputs": [
        {
          "output_type": "stream",
          "name": "stdout",
          "text": [
            "Total of Odd numbers in list:  0\n"
          ]
        }
      ]
    },
    {
      "cell_type": "markdown",
      "source": [
        "(ix) WAP to sum all EVEN numbers in L."
      ],
      "metadata": {
        "id": "yeganLJ5Nqsn"
      }
    },
    {
      "cell_type": "code",
      "source": [
        "totalEven = 0\n",
        "for i in L:\n",
        "  if(i % 2 == 0):\n",
        "    totalEven += i\n",
        "print(\"Total of Even numbers in list: \", totalEven)"
      ],
      "metadata": {
        "colab": {
          "base_uri": "https://localhost:8080/"
        },
        "id": "RGxz16RxNsow",
        "outputId": "8d0f50a3-aaf6-4f8f-9f7a-c8203e8f483a"
      },
      "execution_count": 64,
      "outputs": [
        {
          "output_type": "stream",
          "name": "stdout",
          "text": [
            "Total of Even numbers in list:  136\n"
          ]
        }
      ]
    },
    {
      "cell_type": "markdown",
      "source": [
        "(x) WAP to sum all PRIME numbers in L."
      ],
      "metadata": {
        "id": "Sw5Fn59yNtCO"
      }
    },
    {
      "cell_type": "code",
      "source": [
        "prime_sum=0\n",
        "for i in L:\n",
        "  flag=0\n",
        "  for j in range( 2 , i//2+1):\n",
        "    if i%j==0:\n",
        "      flag=flag+1\n",
        "    if flag==0:\n",
        "      prime_sum=prime_sum+i\n",
        "print(\"(X) sum of all prime elements in list =\",prime_sum)"
      ],
      "metadata": {
        "colab": {
          "base_uri": "https://localhost:8080/"
        },
        "id": "4S38nuvhNta3",
        "outputId": "867e733c-7385-4703-e03a-c1af926225d6"
      },
      "execution_count": 66,
      "outputs": [
        {
          "output_type": "stream",
          "name": "stdout",
          "text": [
            "(X) sum of all prime elements in list = 0\n"
          ]
        }
      ]
    },
    {
      "cell_type": "markdown",
      "source": [
        "(xi) WAP to clear all the elements in L."
      ],
      "metadata": {
        "id": "RP2KGzKxOL4g"
      }
    },
    {
      "cell_type": "code",
      "source": [
        "L.clear()\n",
        "print(L)"
      ],
      "metadata": {
        "colab": {
          "base_uri": "https://localhost:8080/"
        },
        "id": "jw-CTaIROM0s",
        "outputId": "ae36a65e-d354-431d-bc86-148509209a2f"
      },
      "execution_count": 42,
      "outputs": [
        {
          "output_type": "stream",
          "name": "stdout",
          "text": [
            "[]\n"
          ]
        }
      ]
    },
    {
      "cell_type": "markdown",
      "source": [
        "(xii) WAP to delete L.\n"
      ],
      "metadata": {
        "id": "s5icURy-OPie"
      }
    },
    {
      "cell_type": "code",
      "source": [
        "del(L)\n",
        "print(L)"
      ],
      "metadata": {
        "colab": {
          "base_uri": "https://localhost:8080/",
          "height": 158
        },
        "id": "qqsL82M0OQRX",
        "outputId": "c4b1a041-45f0-406f-e219-cfec84fffc31"
      },
      "execution_count": 67,
      "outputs": [
        {
          "output_type": "error",
          "ename": "NameError",
          "evalue": "name 'L' is not defined",
          "traceback": [
            "\u001b[0;31m---------------------------------------------------------------------------\u001b[0m",
            "\u001b[0;31mNameError\u001b[0m                                 Traceback (most recent call last)",
            "\u001b[0;32m<ipython-input-67-75aa0dd6f79f>\u001b[0m in \u001b[0;36m<cell line: 2>\u001b[0;34m()\u001b[0m\n\u001b[1;32m      1\u001b[0m \u001b[0;32mdel\u001b[0m\u001b[0;34m(\u001b[0m\u001b[0mL\u001b[0m\u001b[0;34m)\u001b[0m\u001b[0;34m\u001b[0m\u001b[0;34m\u001b[0m\u001b[0m\n\u001b[0;32m----> 2\u001b[0;31m \u001b[0mprint\u001b[0m\u001b[0;34m(\u001b[0m\u001b[0mL\u001b[0m\u001b[0;34m)\u001b[0m\u001b[0;34m\u001b[0m\u001b[0;34m\u001b[0m\u001b[0m\n\u001b[0m",
            "\u001b[0;31mNameError\u001b[0m: name 'L' is not defined"
          ]
        }
      ]
    },
    {
      "cell_type": "markdown",
      "source": [
        "### **Q2. D is a dictionary defined as D= {1:5.6, 2:7.8, 3:6.6, 4:8.7, 5:7.7}.**\n",
        "(i) WAP to add new entry in D; key=8 and value is 8.8"
      ],
      "metadata": {
        "id": "ULuniNHiWnqt"
      }
    },
    {
      "cell_type": "code",
      "source": [
        "D = {1:5.6, 2:7.8, 3:6.6, 4:8.7, 5:7.7}\n",
        "print(D)\n",
        "D[8] = 8.8\n",
        "print(D)"
      ],
      "metadata": {
        "colab": {
          "base_uri": "https://localhost:8080/"
        },
        "id": "VodnWxrrWvA4",
        "outputId": "9bde80aa-e3a5-4e81-8ae9-54e449c7ecff"
      },
      "execution_count": 44,
      "outputs": [
        {
          "output_type": "stream",
          "name": "stdout",
          "text": [
            "{1: 5.6, 2: 7.8, 3: 6.6, 4: 8.7, 5: 7.7}\n",
            "{1: 5.6, 2: 7.8, 3: 6.6, 4: 8.7, 5: 7.7, 8: 8.8}\n"
          ]
        }
      ]
    },
    {
      "cell_type": "markdown",
      "source": [
        "(ii) WAP to remove key=2.\n"
      ],
      "metadata": {
        "id": "oiTkBY35WxlC"
      }
    },
    {
      "cell_type": "code",
      "source": [
        "del D[2]\n",
        "print(D)"
      ],
      "metadata": {
        "colab": {
          "base_uri": "https://localhost:8080/"
        },
        "id": "kFmbN7pGWx9X",
        "outputId": "19393495-8d42-446e-85bb-c6f828787527"
      },
      "execution_count": 45,
      "outputs": [
        {
          "output_type": "stream",
          "name": "stdout",
          "text": [
            "{1: 5.6, 3: 6.6, 4: 8.7, 5: 7.7, 8: 8.8}\n"
          ]
        }
      ]
    },
    {
      "cell_type": "markdown",
      "source": [
        "(iii) WAP to check weather 6 key is present in D."
      ],
      "metadata": {
        "id": "3U5bAgXvWyQb"
      }
    },
    {
      "cell_type": "code",
      "source": [
        "if 6 in D:\n",
        "  print(\"Key 6 is present\")\n",
        "else:\n",
        "  print(\"Key 6 is not present\")"
      ],
      "metadata": {
        "colab": {
          "base_uri": "https://localhost:8080/"
        },
        "id": "HUIsVreVWynw",
        "outputId": "5dad46f5-9acf-4d64-999c-ebd7456207df"
      },
      "execution_count": 47,
      "outputs": [
        {
          "output_type": "stream",
          "name": "stdout",
          "text": [
            "Key 6 is not present\n"
          ]
        }
      ]
    },
    {
      "cell_type": "markdown",
      "source": [
        "(iv) WAP to count the number of elements present in D."
      ],
      "metadata": {
        "id": "lafwUEzDWy9_"
      }
    },
    {
      "cell_type": "code",
      "source": [
        "print(len(D))"
      ],
      "metadata": {
        "colab": {
          "base_uri": "https://localhost:8080/"
        },
        "id": "voFJJsV5WzT0",
        "outputId": "921e33f5-6867-41a5-c839-e5cc1721edbf"
      },
      "execution_count": 69,
      "outputs": [
        {
          "output_type": "stream",
          "name": "stdout",
          "text": [
            "5\n"
          ]
        }
      ]
    },
    {
      "cell_type": "markdown",
      "source": [
        "(v) WAP to add all the values present D."
      ],
      "metadata": {
        "id": "taCYokHkWzpQ"
      }
    },
    {
      "cell_type": "code",
      "source": [
        "print(\"(Sum of all values = \", sum(D.values()))"
      ],
      "metadata": {
        "colab": {
          "base_uri": "https://localhost:8080/",
          "height": 141
        },
        "id": "devHzibXWz_a",
        "outputId": "c7c6248f-c828-4685-f9be-c9958fde9f16"
      },
      "execution_count": 70,
      "outputs": [
        {
          "output_type": "error",
          "ename": "TypeError",
          "evalue": "'generator' object is not callable",
          "traceback": [
            "\u001b[0;31m---------------------------------------------------------------------------\u001b[0m",
            "\u001b[0;31mTypeError\u001b[0m                                 Traceback (most recent call last)",
            "\u001b[0;32m<ipython-input-70-184c67a37403>\u001b[0m in \u001b[0;36m<cell line: 1>\u001b[0;34m()\u001b[0m\n\u001b[0;32m----> 1\u001b[0;31m \u001b[0mprint\u001b[0m\u001b[0;34m(\u001b[0m\u001b[0;34m\"(Sum of all values = \"\u001b[0m\u001b[0;34m,\u001b[0m \u001b[0msum\u001b[0m\u001b[0;34m(\u001b[0m\u001b[0mD\u001b[0m\u001b[0;34m.\u001b[0m\u001b[0mvalues\u001b[0m\u001b[0;34m(\u001b[0m\u001b[0;34m)\u001b[0m\u001b[0;34m)\u001b[0m\u001b[0;34m)\u001b[0m\u001b[0;34m\u001b[0m\u001b[0;34m\u001b[0m\u001b[0m\n\u001b[0m",
            "\u001b[0;31mTypeError\u001b[0m: 'generator' object is not callable"
          ]
        }
      ]
    },
    {
      "cell_type": "markdown",
      "source": [
        "(vi) WAP to update the value of 3 to 7.1."
      ],
      "metadata": {
        "id": "VhDxR2IxW0Sl"
      }
    },
    {
      "cell_type": "code",
      "source": [
        "D[3] = 7.1\n",
        "print(D)"
      ],
      "metadata": {
        "colab": {
          "base_uri": "https://localhost:8080/"
        },
        "id": "Bm5YCfVXX3QC",
        "outputId": "5ba2704b-c7be-422a-aa24-e8a6ea279820"
      },
      "execution_count": 71,
      "outputs": [
        {
          "output_type": "stream",
          "name": "stdout",
          "text": [
            "{1: 5.6, 3: 7.1, 4: 8.7, 5: 7.7, 8: 8.8}\n"
          ]
        }
      ]
    },
    {
      "cell_type": "markdown",
      "source": [
        "(vii) WAP to clear the dictionary."
      ],
      "metadata": {
        "id": "Oehg_LpnX3uf"
      }
    },
    {
      "cell_type": "code",
      "source": [
        "D.clear()"
      ],
      "metadata": {
        "id": "wewMzX_UW0qX"
      },
      "execution_count": 72,
      "outputs": []
    },
    {
      "cell_type": "markdown",
      "source": [
        "### **Q3. S1 is a set defined as S1= [10, 20, 30, 40, 50, 60].**\n",
        "### **S2 is a set defined as S2= [40, 50, 60, 70, 80, 90].**\n",
        "(i) WAP to add 55 and 66 in Set S1."
      ],
      "metadata": {
        "id": "E4JdDIeQW1BD"
      }
    },
    {
      "cell_type": "code",
      "source": [
        "S1 = set([10, 20, 30, 40, 50, 60])\n",
        "S2 = set([40, 50 ,60 , 70, 80])\n",
        "print(S1,\"\\n\",S2)\n",
        "\n",
        "S1.add(55)\n",
        "S1.add(66)\n",
        "print(\"S1 updated: \",S1)"
      ],
      "metadata": {
        "colab": {
          "base_uri": "https://localhost:8080/"
        },
        "id": "pKMBH721d6Af",
        "outputId": "ebffd86b-4d54-4058-e027-4e99727a6aa1"
      },
      "execution_count": 74,
      "outputs": [
        {
          "output_type": "stream",
          "name": "stdout",
          "text": [
            "{40, 10, 50, 20, 60, 30} \n",
            " {70, 40, 80, 50, 60}\n",
            "S1 updated:  {66, 40, 10, 50, 20, 55, 60, 30}\n"
          ]
        }
      ]
    },
    {
      "cell_type": "markdown",
      "source": [
        "(ii) WAP to remove 10 and 30 from Set S1."
      ],
      "metadata": {
        "id": "iL1-5rTXelBi"
      }
    },
    {
      "cell_type": "code",
      "source": [
        "S1.remove(10)\n",
        "S1.remove(30)\n",
        "print(\"S1 updated: \",S1)"
      ],
      "metadata": {
        "colab": {
          "base_uri": "https://localhost:8080/"
        },
        "id": "1w151RBRel4n",
        "outputId": "6172b1d1-fd9f-4518-968a-03933b24a9f8"
      },
      "execution_count": 76,
      "outputs": [
        {
          "output_type": "stream",
          "name": "stdout",
          "text": [
            "S1 updated:  {66, 40, 50, 20, 55, 60}\n"
          ]
        }
      ]
    },
    {
      "cell_type": "markdown",
      "source": [
        "(iii) WAP to check whether 40 is present in S1."
      ],
      "metadata": {
        "id": "zQMuz83Fe1uZ"
      }
    },
    {
      "cell_type": "code",
      "source": [
        "if 40 in S1:\n",
        "  print(\"40 is present in S1\")\n",
        "else:\n",
        "  print(\"40 is not present in S1\")"
      ],
      "metadata": {
        "colab": {
          "base_uri": "https://localhost:8080/"
        },
        "id": "tVzz-gBle5SY",
        "outputId": "539e5eed-2ff3-4e3d-d351-e6871bd15ceb"
      },
      "execution_count": 77,
      "outputs": [
        {
          "output_type": "stream",
          "name": "stdout",
          "text": [
            "40 is present in S1\n"
          ]
        }
      ]
    },
    {
      "cell_type": "markdown",
      "source": [
        "(iv) WAP to find the union between S1 and S2."
      ],
      "metadata": {
        "id": "vdEHFzEKfOaB"
      }
    },
    {
      "cell_type": "code",
      "source": [
        "print(\"Union of S1 and S2: \",S1.union(S2))"
      ],
      "metadata": {
        "colab": {
          "base_uri": "https://localhost:8080/"
        },
        "id": "pRtDZrDUfPKr",
        "outputId": "113163bf-9da4-465a-8453-3cfbaa9b9d12"
      },
      "execution_count": 79,
      "outputs": [
        {
          "output_type": "stream",
          "name": "stdout",
          "text": [
            "Union of S1 and S2:  {66, 70, 40, 80, 50, 20, 55, 60}\n"
          ]
        }
      ]
    },
    {
      "cell_type": "markdown",
      "source": [
        "(v) WAP to find the intersection between S1 and S2."
      ],
      "metadata": {
        "id": "NlxB5cDBffmo"
      }
    },
    {
      "cell_type": "code",
      "source": [
        "print(\"Intersection of S1 & S2: \", S1.intersection(S2))"
      ],
      "metadata": {
        "colab": {
          "base_uri": "https://localhost:8080/"
        },
        "id": "C82tXZJ3fjJz",
        "outputId": "b05c0d32-00fc-40db-dd26-8cb80ff2542c"
      },
      "execution_count": 80,
      "outputs": [
        {
          "output_type": "stream",
          "name": "stdout",
          "text": [
            "Intersection of S1 & S2:  {40, 50, 60}\n"
          ]
        }
      ]
    },
    {
      "cell_type": "markdown",
      "source": [
        "(vi) WAP to find the S1 - S2."
      ],
      "metadata": {
        "id": "aqKeu5gIfulj"
      }
    },
    {
      "cell_type": "code",
      "source": [
        "\n",
        "print(\"Difference S1- S2: \",S1.difference(S2))"
      ],
      "metadata": {
        "colab": {
          "base_uri": "https://localhost:8080/"
        },
        "id": "XYiod3mvfvTV",
        "outputId": "8fd3ead1-bfd1-475d-eb63-2f36ccce5c8c"
      },
      "execution_count": 81,
      "outputs": [
        {
          "output_type": "stream",
          "name": "stdout",
          "text": [
            "Difference S1- S2:  {66, 20, 55}\n"
          ]
        }
      ]
    },
    {
      "cell_type": "markdown",
      "source": [
        "### **Q4. Write the following program.**\n",
        "(i) WAP to print 100 random strings whose length between 6 and 8."
      ],
      "metadata": {
        "id": "5bxaRSCkf5uR"
      }
    },
    {
      "cell_type": "code",
      "source": [
        "import string as s\n",
        "import random as r\n",
        "for _ in range(100):\n",
        "  lenght=r.randint(6, 8)\n",
        "  rString = ''. join(r.choice(s.ascii_lowercase)\n",
        "  for _ in range(lenght))\n",
        "  print(rString)"
      ],
      "metadata": {
        "colab": {
          "base_uri": "https://localhost:8080/"
        },
        "id": "e4KnepXAf_KM",
        "outputId": "7743c24a-085a-4e95-c951-6bc46b4a5240"
      },
      "execution_count": 87,
      "outputs": [
        {
          "output_type": "stream",
          "name": "stdout",
          "text": [
            "ukuwto\n",
            "zbhqnz\n",
            "hpzwde\n",
            "guhdtkw\n",
            "hwaxnse\n",
            "bsyjvju\n",
            "ixcjdou\n",
            "dakszo\n",
            "jjsazdet\n",
            "szmemkdd\n",
            "exokekym\n",
            "uvyzteqn\n",
            "tuhxahu\n",
            "kudyrr\n",
            "dfawilpj\n",
            "pwmlowru\n",
            "ljvmndaf\n",
            "lrxyxbbn\n",
            "blokrbcz\n",
            "vlcggvz\n",
            "wgeosxqu\n",
            "xefjwb\n",
            "lgtzvw\n",
            "dhoakhpk\n",
            "npspdf\n",
            "ofdqntk\n",
            "guipoi\n",
            "jnpfcnd\n",
            "pzfvuvs\n",
            "htxgum\n",
            "mpgijcqo\n",
            "xqintxei\n",
            "qjrfaz\n",
            "ljjtrj\n",
            "ubniwra\n",
            "wtbrmv\n",
            "nlmxyw\n",
            "dzsysxlf\n",
            "gbebins\n",
            "valnulxg\n",
            "oyydehes\n",
            "enpeyu\n",
            "ifvwde\n",
            "odvhtuxo\n",
            "qpicagq\n",
            "kpfxwoe\n",
            "atbbzuu\n",
            "ozclpxnn\n",
            "gljwxjff\n",
            "ttuthr\n",
            "uhmwpy\n",
            "kdvfpmd\n",
            "xcfvdewa\n",
            "evfxoreb\n",
            "jzmqin\n",
            "fmndxjeg\n",
            "qindfkvg\n",
            "qnkqqjr\n",
            "qphyoes\n",
            "qqeqtm\n",
            "kunkmmme\n",
            "kmyrzj\n",
            "hqocrfs\n",
            "smqloplh\n",
            "zhbinb\n",
            "nqoaqzht\n",
            "izrdydew\n",
            "olztpxi\n",
            "mbvkddnd\n",
            "ogjdyr\n",
            "cnpvvi\n",
            "yoynqw\n",
            "nsoqpo\n",
            "zlphdgos\n",
            "xqqxye\n",
            "accdnix\n",
            "pbvmua\n",
            "enolzpzg\n",
            "qiwszcza\n",
            "fzmyra\n",
            "wzadmzki\n",
            "oilycjb\n",
            "zkkbje\n",
            "nznlekc\n",
            "nezlzl\n",
            "dbnwpkct\n",
            "sfgnuqh\n",
            "rrylaw\n",
            "cgcdfw\n",
            "roshscl\n",
            "ozolwp\n",
            "zvbftzna\n",
            "luepwbu\n",
            "rbczlh\n",
            "ptoscvu\n",
            "ejfmftz\n",
            "pqeauw\n",
            "jlqxwy\n",
            "hmakwjq\n",
            "gfehgzc\n"
          ]
        }
      ]
    },
    {
      "cell_type": "markdown",
      "source": [
        "(ii) WAP to print all prime numbers between 600 and 800."
      ],
      "metadata": {
        "id": "1n8rwbucgFiL"
      }
    },
    {
      "cell_type": "code",
      "source": [
        "for num in range(600, 801):\n",
        "    if num > 1:\n",
        "        for i in range(2, int(num**0.5) + 1):\n",
        "            if (num % i) == 0:\n",
        "                break\n",
        "        else:\n",
        "            print(num)"
      ],
      "metadata": {
        "colab": {
          "base_uri": "https://localhost:8080/"
        },
        "id": "jisYOokPgGQB",
        "outputId": "3835f66e-6d94-49dd-df42-f65675146229"
      },
      "execution_count": 88,
      "outputs": [
        {
          "output_type": "stream",
          "name": "stdout",
          "text": [
            "601\n",
            "607\n",
            "613\n",
            "617\n",
            "619\n",
            "631\n",
            "641\n",
            "643\n",
            "647\n",
            "653\n",
            "659\n",
            "661\n",
            "673\n",
            "677\n",
            "683\n",
            "691\n",
            "701\n",
            "709\n",
            "719\n",
            "727\n",
            "733\n",
            "739\n",
            "743\n",
            "751\n",
            "757\n",
            "761\n",
            "769\n",
            "773\n",
            "787\n",
            "797\n"
          ]
        }
      ]
    },
    {
      "cell_type": "markdown",
      "source": [
        "(iii) WAP to print all numbers between 100 and 1000 that are divisible by 7 and 9.\n"
      ],
      "metadata": {
        "id": "5RXopgHQgGqm"
      }
    },
    {
      "cell_type": "code",
      "source": [
        "def is_prime(num):\n",
        "    if num < 2:\n",
        "        return False\n",
        "    for i in range(2, int(num**0.5) + 1):\n",
        "        if num % i == 0:\n",
        "            return False\n",
        "    return True\n",
        "\n",
        "prime_numbers_divisible_by_7_and_9 = []\n",
        "\n",
        "for num in range(100, 1001):\n",
        "    if is_prime(num) and num % 7 == 0 and num % 9 == 0:\n",
        "        prime_numbers_divisible_by_7_and_9.append(num)\n",
        "        print(num)\n",
        "\n",
        "print(\"List of prime numbers between 100 and 1000 that are divisible by both 7 and 9:\", prime_numbers_divisible_by_7_and_9)"
      ],
      "metadata": {
        "colab": {
          "base_uri": "https://localhost:8080/"
        },
        "id": "12rmuIKlgKzc",
        "outputId": "f4798afb-b706-46b7-d5cf-c66b8f633e9b"
      },
      "execution_count": 95,
      "outputs": [
        {
          "output_type": "stream",
          "name": "stdout",
          "text": [
            "List of prime numbers between 100 and 1000 that are divisible by both 7 and 9: []\n"
          ]
        }
      ]
    },
    {
      "cell_type": "markdown",
      "source": [
        "### **Q5. WAP to create two lists of 10 random numbers between 10 and 30; Find**\n",
        "(i) Common numbers in the two lists"
      ],
      "metadata": {
        "id": "vAhdyBhkkRwi"
      }
    },
    {
      "cell_type": "code",
      "source": [
        "import random as r\n",
        "l1=r.sample(range(10,30),10)\n",
        "l2=r.sample(range(10,30),10)\n",
        "print(l1)\n",
        "print(l2)\n",
        "\n",
        "common=[value for value in l1 if value in l2]\n",
        "print(\"common elements in both=\",common)"
      ],
      "metadata": {
        "colab": {
          "base_uri": "https://localhost:8080/"
        },
        "id": "71Dqs6CjkUM6",
        "outputId": "da7d54bc-183e-411d-8581-2064a5aa3fe0"
      },
      "execution_count": 96,
      "outputs": [
        {
          "output_type": "stream",
          "name": "stdout",
          "text": [
            "[12, 20, 14, 19, 29, 27, 13, 17, 24, 26]\n",
            "[20, 16, 27, 26, 17, 25, 28, 13, 19, 21]\n",
            "common elements in both= [20, 19, 27, 13, 17, 26]\n"
          ]
        }
      ]
    },
    {
      "cell_type": "markdown",
      "source": [
        "(ii) Unique numbers in both the list"
      ],
      "metadata": {
        "id": "IBNkBGw7kwNr"
      }
    },
    {
      "cell_type": "code",
      "source": [
        "unique=[value for value in l1+l2 if(l1+l2)]\n",
        "print(\"unique elements are\",unique)"
      ],
      "metadata": {
        "colab": {
          "base_uri": "https://localhost:8080/"
        },
        "id": "JVkhDS_Zk8JA",
        "outputId": "299ad6d9-cdc7-4b23-b5ff-f247d49eeb4a"
      },
      "execution_count": 97,
      "outputs": [
        {
          "output_type": "stream",
          "name": "stdout",
          "text": [
            "unique elements are [12, 20, 14, 19, 29, 27, 13, 17, 24, 26, 20, 16, 27, 26, 17, 25, 28, 13, 19, 21]\n"
          ]
        }
      ]
    },
    {
      "cell_type": "markdown",
      "source": [
        "(iii) Minimum in both the list"
      ],
      "metadata": {
        "id": "yv7al6Cak2Yg"
      }
    },
    {
      "cell_type": "code",
      "source": [
        "minimum=min(min(l1),min(l2))\n",
        "print(\"minimum element=\",minimum)"
      ],
      "metadata": {
        "colab": {
          "base_uri": "https://localhost:8080/"
        },
        "id": "XcySyneJkweA",
        "outputId": "8c74aebc-48a5-415a-aa65-60c838afadeb"
      },
      "execution_count": 98,
      "outputs": [
        {
          "output_type": "stream",
          "name": "stdout",
          "text": [
            "minimum element= 12\n"
          ]
        }
      ]
    },
    {
      "cell_type": "markdown",
      "source": [
        "(iv) Maximum in both the list"
      ],
      "metadata": {
        "id": "Z17TltB8k855"
      }
    },
    {
      "cell_type": "code",
      "source": [
        "max=max(max(l1),max(l2))\n",
        "print(\"minimum element=\",minimum)"
      ],
      "metadata": {
        "colab": {
          "base_uri": "https://localhost:8080/"
        },
        "id": "bs8--NPuk-c_",
        "outputId": "be60f8f6-1a8d-430a-8cb1-a9380992e84a"
      },
      "execution_count": 99,
      "outputs": [
        {
          "output_type": "stream",
          "name": "stdout",
          "text": [
            "minimum element= 12\n"
          ]
        }
      ]
    },
    {
      "cell_type": "markdown",
      "source": [
        "(v) Sum of both the lists"
      ],
      "metadata": {
        "id": "ZV_wHi6Ck_BJ"
      }
    },
    {
      "cell_type": "code",
      "source": [
        "suma = sum(l1) + sum(l2)\n",
        "print(suma)"
      ],
      "metadata": {
        "colab": {
          "base_uri": "https://localhost:8080/",
          "height": 141
        },
        "collapsed": true,
        "id": "MAT0pUVSlB8f",
        "outputId": "22b71324-a338-4ad6-d911-db96e24ac1ec"
      },
      "execution_count": 103,
      "outputs": [
        {
          "output_type": "error",
          "ename": "TypeError",
          "evalue": "'generator' object is not callable",
          "traceback": [
            "\u001b[0;31m---------------------------------------------------------------------------\u001b[0m",
            "\u001b[0;31mTypeError\u001b[0m                                 Traceback (most recent call last)",
            "\u001b[0;32m<ipython-input-103-d17149cffad7>\u001b[0m in \u001b[0;36m<cell line: 1>\u001b[0;34m()\u001b[0m\n\u001b[0;32m----> 1\u001b[0;31m \u001b[0mprint\u001b[0m\u001b[0;34m(\u001b[0m\u001b[0msum\u001b[0m\u001b[0;34m(\u001b[0m\u001b[0ml1\u001b[0m\u001b[0;34m)\u001b[0m\u001b[0;34m)\u001b[0m\u001b[0;34m\u001b[0m\u001b[0;34m\u001b[0m\u001b[0m\n\u001b[0m",
            "\u001b[0;31mTypeError\u001b[0m: 'generator' object is not callable"
          ]
        }
      ]
    },
    {
      "cell_type": "markdown",
      "source": [
        "### **Q6. WAP to create a list of 100 random numbers between 100 and 900. Count and print the:**\n",
        "(i) All odd numbers"
      ],
      "metadata": {
        "id": "-CXSwmkZyjI9"
      }
    },
    {
      "cell_type": "code",
      "source": [
        "import random as r\n",
        "L = r.sample(range(100, 900), 100)\n",
        "print(L)\n",
        "\n",
        "L1=[]\n",
        "for i in L:\n",
        "  if i % 2 != 0:\n",
        "    L1.append(i)\n",
        "print(L1)"
      ],
      "metadata": {
        "colab": {
          "base_uri": "https://localhost:8080/"
        },
        "id": "jVotOP5Syoc1",
        "outputId": "923b5b21-5556-4bfe-de83-7a1c0f30a9bb"
      },
      "execution_count": 104,
      "outputs": [
        {
          "output_type": "stream",
          "name": "stdout",
          "text": [
            "[768, 780, 102, 447, 471, 785, 562, 215, 549, 566, 850, 804, 764, 269, 456, 559, 366, 520, 163, 620, 380, 218, 271, 624, 213, 866, 809, 203, 717, 679, 177, 602, 481, 598, 841, 756, 608, 534, 461, 725, 382, 326, 826, 299, 305, 276, 792, 112, 777, 172, 168, 482, 443, 676, 594, 530, 702, 379, 103, 117, 838, 434, 561, 518, 648, 747, 615, 675, 159, 410, 531, 432, 872, 556, 154, 634, 742, 158, 614, 775, 618, 513, 274, 708, 335, 839, 330, 100, 824, 573, 157, 643, 361, 405, 241, 367, 356, 315, 200, 165]\n",
            "[447, 471, 785, 215, 549, 269, 559, 163, 271, 213, 809, 203, 717, 679, 177, 481, 841, 461, 725, 299, 305, 777, 443, 379, 103, 117, 561, 747, 615, 675, 159, 531, 775, 513, 335, 839, 573, 157, 643, 361, 405, 241, 367, 315, 165]\n"
          ]
        }
      ]
    },
    {
      "cell_type": "markdown",
      "source": [
        "(ii) All even numbers"
      ],
      "metadata": {
        "id": "PWo9OFrqy9r0"
      }
    },
    {
      "cell_type": "code",
      "source": [
        "L2=[]\n",
        "for i in L:\n",
        "  if i % 2 == 0:\n",
        "    L2.append(i)\n",
        "print(L2)"
      ],
      "metadata": {
        "colab": {
          "base_uri": "https://localhost:8080/"
        },
        "id": "OT11CyEuzASd",
        "outputId": "726c1f2a-7d63-410c-cdc3-26cd6439314a"
      },
      "execution_count": 105,
      "outputs": [
        {
          "output_type": "stream",
          "name": "stdout",
          "text": [
            "[768, 780, 102, 562, 566, 850, 804, 764, 456, 366, 520, 620, 380, 218, 624, 866, 602, 598, 756, 608, 534, 382, 326, 826, 276, 792, 112, 172, 168, 482, 676, 594, 530, 702, 838, 434, 518, 648, 410, 432, 872, 556, 154, 634, 742, 158, 614, 618, 274, 708, 330, 100, 824, 356, 200]\n"
          ]
        }
      ]
    },
    {
      "cell_type": "markdown",
      "source": [
        "(iii) All prime numbers"
      ],
      "metadata": {
        "id": "FNxpfHabzJrt"
      }
    },
    {
      "cell_type": "code",
      "source": [
        "L3 = []\n",
        "for i in L:\n",
        "  flag = 0\n",
        "  for j in range( 2 , i // 2 + 1):\n",
        "     if i % j == 0:\n",
        "       flag = 1\n",
        "       break\n",
        "  if flag == 0:\n",
        "    L3.append(i)\n",
        "\n",
        "print (\"Prime numbers in list = \",L3)"
      ],
      "metadata": {
        "colab": {
          "base_uri": "https://localhost:8080/"
        },
        "id": "zV-BjhHSzKVr",
        "outputId": "c3ad4077-f6ef-4995-97a5-e02894310660"
      },
      "execution_count": 106,
      "outputs": [
        {
          "output_type": "stream",
          "name": "stdout",
          "text": [
            "prime numbers in l =  [269, 163, 271, 809, 461, 443, 379, 103, 839, 157, 643, 241, 367]\n"
          ]
        }
      ]
    },
    {
      "cell_type": "markdown",
      "source": [
        "### **Q7. D is a dictionary defined as D={1:\"One\",2:\"Two\",3:\"Three\",4:\"Four\", 5:\"Five\"}.**\n",
        " WAP to read all the keys and values from dictionary and write to the file in the given below format.\n",
        "Key1, Value1\n",
        "Key2, Value2\n",
        "Key3, Value3\n"
      ],
      "metadata": {
        "id": "t3xcAFdBzdbq"
      }
    },
    {
      "cell_type": "code",
      "source": [
        "import pandas as pd\n",
        "D = {1:\"One\", 2:\"Two\", 3:\"Three\", 4:\"Four\", 5:\"Five\"}\n",
        "df = pd.DataFrame.from_dict(D, orient = \"index\")\n",
        "print(df)"
      ],
      "metadata": {
        "colab": {
          "base_uri": "https://localhost:8080/"
        },
        "id": "NsIwRjVEzfKc",
        "outputId": "f4448faf-db7a-471c-9343-bec5b081c8fb"
      },
      "execution_count": 108,
      "outputs": [
        {
          "output_type": "stream",
          "name": "stdout",
          "text": [
            "       0\n",
            "1    One\n",
            "2    Two\n",
            "3  Three\n",
            "4   Four\n",
            "5   Five\n"
          ]
        }
      ]
    },
    {
      "cell_type": "markdown",
      "source": [
        "### **Q8. L is a list defined as L={\"One\",\"Two\",\"Three\",\"Four\",\"Five\"}.**\n",
        " WAP to count the length of reach element from a list and write to the file in the given below format:\n",
        "One, 3\n",
        "Two, 3\n",
        "Four, 4"
      ],
      "metadata": {
        "id": "lbJmyRS9z1vS"
      }
    },
    {
      "cell_type": "code",
      "source": [
        "L=[\"One\",\"Two\",\"Three\",\"Four\",\"Five\"]\n",
        "for i in L:\n",
        "  print(i,len(i))"
      ],
      "metadata": {
        "colab": {
          "base_uri": "https://localhost:8080/"
        },
        "id": "NRSgsFpfz516",
        "outputId": "61cbf592-4c64-460c-b617-7605472e7406"
      },
      "execution_count": 107,
      "outputs": [
        {
          "output_type": "stream",
          "name": "stdout",
          "text": [
            "One 3\n",
            "Two 3\n",
            "Three 5\n",
            "Four 4\n",
            "Five 4\n"
          ]
        }
      ]
    },
    {
      "cell_type": "markdown",
      "source": [
        "### **Q9. Write to the file 100 random strings whose length between 10 and 15.**"
      ],
      "metadata": {
        "id": "VhEZM5gP0E_V"
      }
    },
    {
      "cell_type": "code",
      "source": [
        "import string as s\n",
        "import random as r\n",
        "for i in range(1, 101):\n",
        "  num = r.randint(10, 15)\n",
        "  passwd = \"\".join(r.sample(s.ascii_letters, num))\n",
        "  print (\"Selected string = \", passwd)"
      ],
      "metadata": {
        "colab": {
          "base_uri": "https://localhost:8080/"
        },
        "id": "sorA3jdY0Jgz",
        "outputId": "469f9d15-66c1-4266-95f8-f3c55e998ecf"
      },
      "execution_count": 109,
      "outputs": [
        {
          "output_type": "stream",
          "name": "stdout",
          "text": [
            "Selected string =  qFJQTsmMruzAhlk\n",
            "Selected string =  uJdOzRrPUi\n",
            "Selected string =  NyKoUMmeZpTbVaw\n",
            "Selected string =  bdzZXPMTGjhpU\n",
            "Selected string =  DOLRNATtSzYqj\n",
            "Selected string =  dKWheywEMqfl\n",
            "Selected string =  bGKMxuZYghtmw\n",
            "Selected string =  iHdojTFCJGIqEZ\n",
            "Selected string =  nSMhCBvLiIGNE\n",
            "Selected string =  ctgYzQaJifhW\n",
            "Selected string =  FtgqkNQVUvzCjw\n",
            "Selected string =  VzNuRwqTgEo\n",
            "Selected string =  kGSdlZwWOx\n",
            "Selected string =  xqWiPBLOwFvg\n",
            "Selected string =  ogFrciIzwPSn\n",
            "Selected string =  lzkNBZRyHxi\n",
            "Selected string =  NnjpxdYLZGs\n",
            "Selected string =  iRsEmJoIauGbP\n",
            "Selected string =  jCFIcDPgKYeSA\n",
            "Selected string =  bXrSEhnwyf\n",
            "Selected string =  syVGgBYMKPUTWvF\n",
            "Selected string =  FEHfBeOcvu\n",
            "Selected string =  GbsBfldSMaeQmCr\n",
            "Selected string =  jnxbIJBLTM\n",
            "Selected string =  SUcDXEieJFwvr\n",
            "Selected string =  fDQRIgGhpVTtj\n",
            "Selected string =  kbwLqaEPxoX\n",
            "Selected string =  ZmdbiQtfNgRIsW\n",
            "Selected string =  AiQJCdqZfhPM\n",
            "Selected string =  kpMhewEYVsWRGvl\n",
            "Selected string =  FuThyxDrbfEa\n",
            "Selected string =  gbijOPBAGX\n",
            "Selected string =  enPlfFaHMoWsSh\n",
            "Selected string =  COWlNxToBiyuw\n",
            "Selected string =  XzrqvPIMNRFf\n",
            "Selected string =  dtDSnXJcUIizub\n",
            "Selected string =  WIQvuEhmoD\n",
            "Selected string =  emjyGPazHtKTnfx\n",
            "Selected string =  WyBuPHrETG\n",
            "Selected string =  wGpynrzKbOmUJHa\n",
            "Selected string =  sFzHnVfGokZrbD\n",
            "Selected string =  OtANLITBxcPCaKw\n",
            "Selected string =  zofKXLiyjRF\n",
            "Selected string =  lORMWywSYcDr\n",
            "Selected string =  WnaQoDGTcPE\n",
            "Selected string =  VDZxTjfOQGqIbCt\n",
            "Selected string =  mWwtogIYHy\n",
            "Selected string =  oiXabVcwyeYs\n",
            "Selected string =  GKvqVTLfhsZ\n",
            "Selected string =  xIiGEloKRVAX\n",
            "Selected string =  DrHxwONKvfzRntS\n",
            "Selected string =  IUFPxfzVlSipMm\n",
            "Selected string =  FJcQOzVNiG\n",
            "Selected string =  jKYhQUvftSM\n",
            "Selected string =  pVIftzCSJbAY\n",
            "Selected string =  NWPzivErtGQX\n",
            "Selected string =  RsubMqctklDh\n",
            "Selected string =  SfzOuVGZTgU\n",
            "Selected string =  ngYQRKdVvPrCe\n",
            "Selected string =  lfcnoKDzUwiOp\n",
            "Selected string =  JziuyxHeGBan\n",
            "Selected string =  JAtMyjrbkCFgvY\n",
            "Selected string =  erMqFDinIRWP\n",
            "Selected string =  PVxznHDAuNtFOZR\n",
            "Selected string =  OKxXaPzieRLnCt\n",
            "Selected string =  RgmzZYEpDoehjP\n",
            "Selected string =  UHoFIWMtRVX\n",
            "Selected string =  BzutSlyfEVUAi\n",
            "Selected string =  qcWELrIhvaUQgfV\n",
            "Selected string =  evlofmXTSqDkg\n",
            "Selected string =  ATYfsEPcFj\n",
            "Selected string =  jwQGeXrlvLiEnK\n",
            "Selected string =  VTyhuIZBjNSi\n",
            "Selected string =  NzWdhvRgIoViqu\n",
            "Selected string =  LmgEerQFwjD\n",
            "Selected string =  TkfAeCUENoO\n",
            "Selected string =  DgonblOCWIQ\n",
            "Selected string =  LOfchumlqHXjJz\n",
            "Selected string =  XjxpzENyanUouv\n",
            "Selected string =  idQPMxeBKN\n",
            "Selected string =  isUXeyVDYzbHLZ\n",
            "Selected string =  inJGdMSBKpVg\n",
            "Selected string =  nPgvNdUELu\n",
            "Selected string =  McqLRTYSumNPeCo\n",
            "Selected string =  OudtvyoqXwZcfG\n",
            "Selected string =  sHzwVZuadh\n",
            "Selected string =  hrbzKNHviTkY\n",
            "Selected string =  rSvGcaNXVeJTLD\n",
            "Selected string =  SCzgFrBTUxiP\n",
            "Selected string =  vhsgYVTqUCnbu\n",
            "Selected string =  svRkybTjpKmqEB\n",
            "Selected string =  UAETwnqCcNYz\n",
            "Selected string =  yAqzdKrsLX\n",
            "Selected string =  KtQVHSjNTkBfwiA\n",
            "Selected string =  uVpNGzLqPaU\n",
            "Selected string =  fRlMhrQsojEI\n",
            "Selected string =  zcSWYOPDCIGRjUJ\n",
            "Selected string =  FirBZmYMDqlCVy\n",
            "Selected string =  aMsNSvBKyzkFA\n",
            "Selected string =  xOKHuktVmQ\n"
          ]
        }
      ]
    },
    {
      "cell_type": "markdown",
      "source": [
        "### **Q10. Write to the file all prime numbers between 600 and 800.**"
      ],
      "metadata": {
        "id": "6FNaUhY80LVb"
      }
    },
    {
      "cell_type": "code",
      "source": [
        "def is_prime(n):\n",
        "    \"\"\"Check if a number is prime.\"\"\"\n",
        "    if n <= 1:\n",
        "        return False\n",
        "    if n <= 3:\n",
        "        return True\n",
        "    if n % 2 == 0 or n % 3 == 0:\n",
        "        return False\n",
        "    i = 5\n",
        "    while i * i <= n:\n",
        "        if n % i == 0 or n % (i + 2) == 0:\n",
        "            return False\n",
        "        i += 6\n",
        "    return True\n",
        "\n",
        "# Find all prime numbers between 600 and 800\n",
        "prime_numbers = [num for num in range(600, 801) if is_prime(num)]\n",
        "\n",
        "# Write the prime numbers to a file\n",
        "with open(\"prime_numbers_600_to_800.txt\", \"w\") as file:\n",
        "    for prime in prime_numbers:\n",
        "        file.write(f\"{prime}\\n\")\n"
      ],
      "metadata": {
        "id": "SY7wijt00NIH"
      },
      "execution_count": 112,
      "outputs": []
    },
    {
      "cell_type": "markdown",
      "source": [
        "### **Q11. WAP to calculate the time taken by a program**"
      ],
      "metadata": {
        "id": "tB4cHpWY0NVi"
      }
    },
    {
      "cell_type": "code",
      "source": [
        "import time as t\n",
        "t1=t.time()\n",
        "\n",
        "l=[]\n",
        "for i in range(600,800):\n",
        "   flag=0\n",
        "   for j in range( 2 , i//2+1):\n",
        "     if i%j==0:\n",
        "       flag=1\n",
        "       break\n",
        "\n",
        "   if flag==0:\n",
        "    l.append(i)\n",
        "print (\"prime numbers between 600 and 800 = \",l)\n",
        "t2=t.time()\n",
        "t3=t2-t1\n",
        "print(\"time taken =\",t3)"
      ],
      "metadata": {
        "colab": {
          "base_uri": "https://localhost:8080/"
        },
        "id": "RiuHK8xk0RVL",
        "outputId": "cd7e1dd5-dc34-49ad-fa22-ffaa95f135e2"
      },
      "execution_count": 111,
      "outputs": [
        {
          "output_type": "stream",
          "name": "stdout",
          "text": [
            "prime numbers between 600 and 800 =  [601, 607, 613, 617, 619, 631, 641, 643, 647, 653, 659, 661, 673, 677, 683, 691, 701, 709, 719, 727, 733, 739, 743, 751, 757, 761, 769, 773, 787, 797]\n",
            "time taken = 0.0053119659423828125\n"
          ]
        }
      ]
    },
    {
      "cell_type": "markdown",
      "source": [
        "### **Q12. WAP to sort following number of elements in a list, calculate time taken and plot the graph.**\n"
      ],
      "metadata": {
        "id": "GOTgm4P90Rli"
      }
    },
    {
      "cell_type": "code",
      "source": [
        "# Number of elements in list        Time Taken\n",
        "\n",
        "# 5k                                  T1\n",
        "# 10k                                 T2\n",
        "# 15k                                 T3\n",
        "# 20k                                 T4\n",
        "# 25k                                 T5\n",
        "\n",
        "import time\n",
        "import matplotlib.pyplot as plt\n",
        "\n",
        "def bubble_sort(arr):\n",
        "    n = len(arr)\n",
        "    for i in range(n-1):\n",
        "        for j in range(0, n-i-1):\n",
        "            if arr[j] > arr[j+1]:\n",
        "                arr[j], arr[j+1] = arr[j+1], arr[j]\n",
        "\n",
        "def generate_list(size):\n",
        "    return list(range(size))\n",
        "\n",
        "def measure_time_sorting(size):\n",
        "    arr = generate_list(size)\n",
        "    start_time = time.time()\n",
        "    bubble_sort(arr)  # You can replace bubble_sort with other sorting algorithms\n",
        "    end_time = time.time()\n",
        "    return end_time - start_time\n",
        "\n",
        "sizes = [5000, 10000, 15000, 20000, 25000]\n",
        "times = []\n",
        "\n",
        "for size in sizes:\n",
        "    time_taken = measure_time_sorting(size)\n",
        "    times.append(time_taken)\n",
        "    print(f\"Size: {size}, Time Taken: {time_taken} seconds\")\n",
        "\n",
        "plt.plot(sizes, times)\n",
        "plt.xlabel('Number of Elements in List')\n",
        "plt.ylabel('Time Taken (seconds)')\n",
        "plt.title('Sorting Time vs Number of Elements')\n",
        "plt.show()"
      ],
      "metadata": {
        "colab": {
          "base_uri": "https://localhost:8080/",
          "height": 559
        },
        "id": "pTukrER20WWz",
        "outputId": "fb2e48fa-a5ba-4818-808f-6d7724addb40"
      },
      "execution_count": 113,
      "outputs": [
        {
          "output_type": "stream",
          "name": "stdout",
          "text": [
            "Size: 5000, Time Taken: 5.84074854850769 seconds\n",
            "Size: 10000, Time Taken: 7.32631778717041 seconds\n",
            "Size: 15000, Time Taken: 15.47170352935791 seconds\n",
            "Size: 20000, Time Taken: 28.176134824752808 seconds\n",
            "Size: 25000, Time Taken: 44.63072919845581 seconds\n"
          ]
        },
        {
          "output_type": "display_data",
          "data": {
            "text/plain": [
              "<Figure size 640x480 with 1 Axes>"
            ],
            "image/png": "[encoded data removed]"
          },
          "metadata": {}
        }
      ]
    },
    {
      "cell_type": "markdown",
      "source": [
        "### **Q13. WAP to create a dictionary of student marks in five subjects and you have to find the student**\n",
        " having maximum and minimum average marks."
      ],
      "metadata": {
        "id": "g0p2TJ6x0YaZ"
      }
    },
    {
      "cell_type": "code",
      "source": [
        "from builtins import sum\n",
        "student_marks = {\n",
        "    'Tejay': [85, 90, 88, 92, 87],\n",
        "    'Hiram': [78, 85, 80, 82, 75],\n",
        "    'Shiteez': [90, 92, 95, 88, 85],\n",
        "    'Shadab': [80, 75, 82, 88, 90],\n",
        "    'Lovely': [85, 86, 89, 90, 82]\n",
        "}\n",
        "\n",
        "# Calculate average marks for each student\n",
        "average_marks = {name: sum(marks) / len(marks) for name, marks in student_marks.items()}\n",
        "\n",
        "# Find student with maximum average marks\n",
        "max_avg_student = max(average_marks, key=average_marks.get)\n",
        "\n",
        "# Find student with minimum average marks\n",
        "min_avg_student = min(average_marks, key=average_marks.get)\n",
        "\n",
        "print(f\"Student with maximum average marks: {max_avg_student}, Average marks: {average_marks[max_avg_student]}\")\n",
        "print(f\"Student with minimum average marks: {min_avg_student}, Average marks: {average_marks[min_avg_student]}\")"
      ],
      "metadata": {
        "colab": {
          "base_uri": "https://localhost:8080/",
          "height": 211
        },
        "id": "rRLSOmBO0aV5",
        "outputId": "2acc92a9-fb9c-43f8-fd31-96db69d8f42a"
      },
      "execution_count": 119,
      "outputs": [
        {
          "output_type": "error",
          "ename": "TypeError",
          "evalue": "'int' object is not callable",
          "traceback": [
            "\u001b[0;31m---------------------------------------------------------------------------\u001b[0m",
            "\u001b[0;31mTypeError\u001b[0m                                 Traceback (most recent call last)",
            "\u001b[0;32m<ipython-input-119-ad8834f9cf23>\u001b[0m in \u001b[0;36m<cell line: 14>\u001b[0;34m()\u001b[0m\n\u001b[1;32m     12\u001b[0m \u001b[0;34m\u001b[0m\u001b[0m\n\u001b[1;32m     13\u001b[0m \u001b[0;31m# Find student with maximum average marks\u001b[0m\u001b[0;34m\u001b[0m\u001b[0;34m\u001b[0m\u001b[0m\n\u001b[0;32m---> 14\u001b[0;31m \u001b[0mmax_avg_student\u001b[0m \u001b[0;34m=\u001b[0m \u001b[0mmax\u001b[0m\u001b[0;34m(\u001b[0m\u001b[0maverage_marks\u001b[0m\u001b[0;34m,\u001b[0m \u001b[0mkey\u001b[0m\u001b[0;34m=\u001b[0m\u001b[0maverage_marks\u001b[0m\u001b[0;34m.\u001b[0m\u001b[0mget\u001b[0m\u001b[0;34m)\u001b[0m\u001b[0;34m\u001b[0m\u001b[0;34m\u001b[0m\u001b[0m\n\u001b[0m\u001b[1;32m     15\u001b[0m \u001b[0;34m\u001b[0m\u001b[0m\n\u001b[1;32m     16\u001b[0m \u001b[0;31m# Find student with minimum average marks\u001b[0m\u001b[0;34m\u001b[0m\u001b[0;34m\u001b[0m\u001b[0m\n",
            "\u001b[0;31mTypeError\u001b[0m: 'int' object is not callable"
          ]
        }
      ]
    }
  ]
}